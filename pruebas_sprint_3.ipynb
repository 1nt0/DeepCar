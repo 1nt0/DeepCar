{
 "cells": [
  {
   "cell_type": "code",
   "execution_count": 1,
   "metadata": {},
   "outputs": [
    {
     "name": "stderr",
     "output_type": "stream",
     "text": [
      "Using TensorFlow backend.\n"
     ]
    }
   ],
   "source": [
    "import os\n",
    "import numpy as np\n",
    "import matplotlib.pyplot as plt\n",
    "import matplotlib.image as mpimg\n",
    "import pandas as pd\n",
    "import ntpath\n",
    "\n",
    "from sklearn.utils import shuffle\n",
    "from sklearn.model_selection import train_test_split\n",
    "import random\n",
    "import cv2\n",
    "\n",
    "import imgaug as ia\n",
    "import imgaug.augmenters as iaa\n",
    "\n",
    "import keras\n",
    "from keras.models import Sequential\n",
    "from keras.optimizers import Adam\n",
    "from keras.layers import Conv2D, Convolution2D, MaxPooling2D, Dropout, Flatten, Dense"
   ]
  },
  {
   "cell_type": "markdown",
   "metadata": {},
   "source": [
    "## Lectura del fichero CSV\n",
    "Vamos a suponer que no se ha cambiado el nombre del fichero csv generado en el simulador, y que se encuentra en la misma carpeta que este Notebook."
   ]
  },
  {
   "cell_type": "code",
   "execution_count": 2,
   "metadata": {},
   "outputs": [],
   "source": [
    "def lee_csv():\n",
    "    #Lectura en crudo del fichero CSV generado, añadiendo los labels a cada columna\n",
    "    columnas = ['centro', 'izquierda', 'derecha', 'angulo', 'acelerador', 'freno', 'velocidad']\n",
    "    datos = pd.read_csv('driving_log.csv', names = columnas)\n",
    "\n",
    "    return datos"
   ]
  },
  {
   "cell_type": "markdown",
   "metadata": {},
   "source": [
    "## Renombre de la ruta de las imágenes\n",
    "Se elimina la ruta absoluta de las imágenes, de esta forma el dataset puede ser usado en diferentes máquinas y/o en diferentes carpetas."
   ]
  },
  {
   "cell_type": "code",
   "execution_count": 3,
   "metadata": {},
   "outputs": [],
   "source": [
    "def renombra_imagenes(datos):\n",
    "    #Modificación de las 3 primeras columnas, correspondiente a la ruta de las imágenes\n",
    "    datos['centro'] = datos['centro'].apply(get_tail)\n",
    "    datos['izquierda'] = datos['izquierda'].apply(get_tail)\n",
    "    datos['derecha'] = datos['derecha'].apply(get_tail)\n",
    "    \n",
    "    return datos\n",
    "\n",
    "#Función para obtener la 'hoja' del árbol perteneciente a la ruta absoluta de la imagen, que corresponde con su nombre\n",
    "def get_tail(path):\n",
    "    head, tail = ntpath.split(path) #Separando por \"/\", tail es el último elemento, y head todo lo anterior\n",
    "    \n",
    "    return tail"
   ]
  },
  {
   "cell_type": "markdown",
   "metadata": {},
   "source": [
    "## Funciones de generación y dibujado del histograma"
   ]
  },
  {
   "cell_type": "code",
   "execution_count": 4,
   "metadata": {},
   "outputs": [],
   "source": [
    "def genera_histograma(datos, num_bins):\n",
    "    #Generación del histograma (sus variables serán usadas en la celda siguiente para procesar los elementos sobrantes)\n",
    "    hist, bins = np.histogram(datos['angulo'], num_bins)\n",
    "    return hist, bins\n",
    "\n",
    "def dibuja_histograma(datos, num_bins, max_muestras_por_bin=0):\n",
    "    #Dibujado del histograma\n",
    "    plt.hist(datos['angulo'], num_bins)\n",
    "\n",
    "    plt.xlabel('Ángulo')\n",
    "    plt.ylabel('Frecuencia')\n",
    "    plt.title(\"Distribución de los ángulos\") \n",
    "\n",
    "    if max_muestras_por_bin != 0:\n",
    "        #Línea representando max_muestras_por_bin sobre el histograma\n",
    "        plt.plot((np.min(datos['angulo']), np.max(datos['angulo'])), (max_muestras_por_bin, max_muestras_por_bin))\n",
    "\n",
    "    plt.show()"
   ]
  },
  {
   "cell_type": "markdown",
   "metadata": {},
   "source": [
    "## Balanceo del dataset"
   ]
  },
  {
   "cell_type": "code",
   "execution_count": 5,
   "metadata": {},
   "outputs": [],
   "source": [
    "#-------------BALANCEO DEL DATASET------------------------\n",
    "def balancea_dataset(datos, num_bins, bins, max_muestras_por_bin):\n",
    "    datos_preprocesados = datos.copy() #Copia del dataset original\n",
    "    elementos_a_eliminar = []\n",
    "\n",
    "    #Recorrido de cada bin\n",
    "    for i in range(num_bins):\n",
    "      lista = []\n",
    "    #Recorrido de cada elemento del dataset: si el ángulo pertenece al bin que estamos recorriendo, lo \n",
    "    #metemos en la lista\n",
    "      for j in range(len(datos['angulo'])):\n",
    "        if datos['angulo'][j] >= bins[i] and datos['angulo'][j] <= bins[i+1]:\n",
    "          lista.append(j)\n",
    "\n",
    "    #Mezclamos los elementos que pertenecen al bin\n",
    "      lista = shuffle(lista)\n",
    "      #Nos quedamos con las \"sobras\" basado en el umbral que hayamos decidido (max_muestras_por_bin), para posteriormente\n",
    "      #añadirlo a elementos_a_eliminar y utilizarla como lista con los elementos a eliminar en el dataset\n",
    "      lista = lista[max_muestras_por_bin:]\n",
    "      elementos_a_eliminar.extend(lista)\n",
    "\n",
    "    #Eliminamos dichos datos del dataset\n",
    "    datos_preprocesados.drop(datos_preprocesados.index[elementos_a_eliminar], inplace=True)\n",
    "    \n",
    "    return datos_preprocesados"
   ]
  },
  {
   "cell_type": "markdown",
   "metadata": {},
   "source": [
    "## Función para devolver solo las imágenes y los ángulos del dataset"
   ]
  },
  {
   "cell_type": "markdown",
   "metadata": {},
   "source": [
    "Ahora se seleccionan todas las imágenes del dataset, no solo las de la cámara central"
   ]
  },
  {
   "cell_type": "code",
   "execution_count": 6,
   "metadata": {},
   "outputs": [],
   "source": [
    "#Obtención de las imágenes y sus ángulos del dataset\n",
    "def get_imgs_y_angulos(datos):\n",
    "    imagenes = []\n",
    "    angulos = []\n",
    "    for i in range(len(datos)):\n",
    "        elemento = datos.iloc[i]\n",
    "        \n",
    "        angulo = elemento[3]\n",
    "        \n",
    "        #Imagen central\n",
    "        imagen_centro = elemento[0]\n",
    "        imagenes.append(os.path.join('IMG/', imagen_centro))\n",
    "        angulos.append(angulo)\n",
    "        \n",
    "        #Imagen izquierda\n",
    "        imagen_izquierda = elemento[1]\n",
    "        imagenes.append(os.path.join('IMG/', imagen_izquierda))\n",
    "        angulos.append(angulo + 0.2)\n",
    "        \n",
    "        #Imagen derecha\n",
    "        imagen_derecha = elemento[2]\n",
    "        imagenes.append(os.path.join('IMG/', imagen_derecha))\n",
    "        angulos.append(angulo - 0.2)\n",
    "        \n",
    "    imagenes = np.asarray(imagenes)\n",
    "    angulos = np.asarray(angulos)\n",
    "    \n",
    "    return imagenes, angulos"
   ]
  },
  {
   "cell_type": "markdown",
   "metadata": {},
   "source": [
    "## División del dataset en conjuntos de entrenamiento y prueba"
   ]
  },
  {
   "cell_type": "code",
   "execution_count": 7,
   "metadata": {},
   "outputs": [],
   "source": [
    "#División del dataset en conjuntos de entrenamiento y prueba\n",
    "def divide_dataset(imagenes, angulos):\n",
    "    x_entrenamiento, x_test, y_entrenamiento, y_test = train_test_split(imagenes, angulos, train_size=0.8)\n",
    "    \n",
    "    return x_entrenamiento, x_test, y_entrenamiento, y_test"
   ]
  },
  {
   "cell_type": "markdown",
   "metadata": {},
   "source": [
    "## Funciones para la transformación de imágenes"
   ]
  },
  {
   "cell_type": "code",
   "execution_count": 8,
   "metadata": {},
   "outputs": [],
   "source": [
    "#-----CONJUNTO DE FUNCIONES PARA EL PREPROCESAMIENTO DE IMÁGENES----\n",
    "def recorte(img):\n",
    "    img = img[70:135,:,:] \n",
    "    return img\n",
    "\n",
    "def RGBaYUV(img):\n",
    "    img = cv2.cvtColor(img, cv2.COLOR_RGB2YUV) \n",
    "    return img\n",
    "\n",
    "def RGBaGRAY(img):\n",
    "    img = cv2.cvtColor(img, cv2.COLOR_RGB2GRAY)\n",
    "    return img\n",
    "\n",
    "def redimensionar_imagen(img, x, y):\n",
    "    img = cv2.resize(img, (x, y))\n",
    "    return img\n",
    "\n",
    "def normalizar_imagen(img):\n",
    "    img = img/255\n",
    "    return img"
   ]
  },
  {
   "cell_type": "markdown",
   "metadata": {},
   "source": [
    "## Preprocesamiento de imágenes necesario para cada arquitectura neuronal"
   ]
  },
  {
   "cell_type": "code",
   "execution_count": 9,
   "metadata": {},
   "outputs": [],
   "source": [
    "#Función de preprocesamiento de imágenes para el modelo de LeNet-5\n",
    "def img_preproceso_lenet5(img):\n",
    "    \n",
    "    img = recorte(img)\n",
    "    img = RGBaGRAY(img)\n",
    "    img = redimensionar_imagen(img, 32, 32)\n",
    "    img = img[:, :, np.newaxis]\n",
    "    img = normalizar_imagen(img)\n",
    "    return img\n",
    "\n",
    "#Función de preprocesamiento de imágenes para el modelo de NVIDIA\n",
    "def img_preproceso_nvidia(img):\n",
    "    \n",
    "    img = recorte(img)\n",
    "    img = RGBaYUV(img)\n",
    "    img = redimensionar_imagen(img, 200, 66)\n",
    "    img = normalizar_imagen(img)\n",
    "    return img"
   ]
  },
  {
   "cell_type": "markdown",
   "metadata": {},
   "source": [
    "## Transformaciones de _data augmentation_"
   ]
  },
  {
   "cell_type": "code",
   "execution_count": 10,
   "metadata": {},
   "outputs": [],
   "source": [
    "def iluminacion(img):\n",
    "    iluminacion = iaa.Multiply((0.2, 1.3))\n",
    "    img = iluminacion.augment_image(img)\n",
    "    \n",
    "    return img\n",
    "\n",
    "def zooming(img):\n",
    "    zooming = iaa.Affine(scale={\"x\": (1.0, 1.4), \"y\": (1.0, 1.4)})\n",
    "    img = zooming.augment_image(img)\n",
    "    \n",
    "    return img\n",
    "\n",
    "def desplazamiento(img):\n",
    "    desplazamiento = iaa.Affine(translate_percent={\"x\": (-0.2, 0.2), \"y\": (-0.2, 0.2)})\n",
    "    img = desplazamiento.augment_image(img)\n",
    "    \n",
    "    return img\n",
    "\n",
    "def volteo(img, angulo):\n",
    "    volteo = iaa.Fliplr(1.0)\n",
    "    img = volteo.augment_image(img)\n",
    "    angulo = -angulo\n",
    "    \n",
    "    return img, angulo"
   ]
  },
  {
   "cell_type": "markdown",
   "metadata": {},
   "source": [
    "## Aumento aleatorio de las imágenes con las transformaciones anteriores"
   ]
  },
  {
   "cell_type": "code",
   "execution_count": 11,
   "metadata": {},
   "outputs": [],
   "source": [
    "def aumento_aleatorio(img, angulo):\n",
    "    img = mpimg.imread(img)\n",
    "    \n",
    "    if np.random.random_sample() < 0.5:\n",
    "        img = iluminacion(img)\n",
    "        \n",
    "    if np.random.random_sample() < 0.5:\n",
    "        img = zooming(img)\n",
    "        \n",
    "    if np.random.random_sample() < 0.5:\n",
    "        img = desplazamiento(img)\n",
    "        \n",
    "    if np.random.random_sample() < 0.5:\n",
    "        img, angulo = volteo(img, angulo)\n",
    "    \n",
    "    return img, angulo"
   ]
  },
  {
   "cell_type": "markdown",
   "metadata": {},
   "source": [
    "## Definición de los dos modelos neuronales"
   ]
  },
  {
   "cell_type": "code",
   "execution_count": 12,
   "metadata": {},
   "outputs": [],
   "source": [
    "def crea_modelo_lenet5():\n",
    "    modelo = Sequential()\n",
    "\n",
    "    modelo.add(Conv2D(6, (5, 5), activation='elu', input_shape=(32, 32, 1)))\n",
    "    modelo.add(MaxPooling2D(pool_size=(2, 2)))\n",
    "\n",
    "    modelo.add(Conv2D(16, (5, 5), activation='elu'))\n",
    "    modelo.add(MaxPooling2D(pool_size=(2, 2)))\n",
    "\n",
    "    modelo.add(Conv2D(120, (5, 5), activation='elu'))\n",
    "    \n",
    "    modelo.add(Flatten())\n",
    "\n",
    "    modelo.add(Dense(84, activation='elu'))\n",
    "\n",
    "    modelo.add(Dense(1))\n",
    "    \n",
    "    optimizador = Adam(lr=1e-3)\n",
    "    modelo.compile(loss='mse', optimizer=optimizador)\n",
    "    \n",
    "    return modelo\n",
    "\n",
    "\n",
    "def crea_modelo_nvidia():\n",
    "    modelo = Sequential()\n",
    "    \n",
    "    modelo.add(Conv2D(24, (5, 5), strides=(2, 2), input_shape=(66, 200, 3), activation='elu'))\n",
    "    modelo.add(Conv2D(36, (5, 5), strides=(2, 2), activation='elu'))\n",
    "    modelo.add(Conv2D(48, (5, 5), strides=(2, 2), activation='elu'))\n",
    "    modelo.add(Conv2D(64, (3, 3), activation='elu'))\n",
    "    modelo.add(Conv2D(64, (3, 3), activation='elu'))\n",
    "    \n",
    "    modelo.add(Flatten())\n",
    "    \n",
    "    modelo.add(Dense(100, activation='elu'))\n",
    "    modelo.add(Dense(50, activation='elu'))\n",
    "    modelo.add(Dense(10, activation='elu'))\n",
    "    modelo.add(Dense(1))\n",
    "    \n",
    "    optimizador = Adam(lr=1e-3)\n",
    "    modelo.compile(loss='mse', optimizer=optimizador)\n",
    "    \n",
    "    return modelo"
   ]
  },
  {
   "cell_type": "markdown",
   "metadata": {},
   "source": [
    "## _Batch generator_"
   ]
  },
  {
   "cell_type": "code",
   "execution_count": 13,
   "metadata": {},
   "outputs": [],
   "source": [
    "#red acepta: 'nvidia' o 'lenet5'\n",
    "def batch_generator(imgs, angulos, batch_size, modo, red):\n",
    "    \n",
    "    while True:\n",
    "        batch_imgs = []\n",
    "        batch_angulos = []\n",
    "        \n",
    "        for i in range(batch_size):\n",
    "            #Número aleatorio que actuará de índice para el conjunto de imágenes\n",
    "            num_aleatorio = random.randint(0, len(imgs)-1)\n",
    "            \n",
    "            if modo == 'entrenamiento':\n",
    "                img, angulo = aumento_aleatorio(imgs[num_aleatorio], angulos[num_aleatorio])\n",
    "                \n",
    "            else:\n",
    "                img = mpimg.imread(imgs[num_aleatorio])\n",
    "                angulo = angulos[num_aleatorio]\n",
    "                \n",
    "            if red == 'nvidia':\n",
    "                img = img_preproceso_nvidia(img)\n",
    "            elif red == 'lenet5':\n",
    "                img = img_preproceso_lenet5(img)\n",
    "            else:\n",
    "                raise ValueError('No se ha seleccionado ninguna de las dos redes neuronales!')\n",
    "                \n",
    "            batch_imgs.append(img) \n",
    "            batch_angulos.append(angulo)\n",
    "            \n",
    "        yield(np.asarray(batch_imgs), np.asarray(batch_angulos))"
   ]
  },
  {
   "cell_type": "markdown",
   "metadata": {},
   "source": [
    "## Entrenamiento del modelo"
   ]
  },
  {
   "cell_type": "markdown",
   "metadata": {},
   "source": [
    "Se usará fit_generator para generar las imágenes al vuelo."
   ]
  },
  {
   "cell_type": "code",
   "execution_count": 14,
   "metadata": {},
   "outputs": [],
   "source": [
    "def entrena_modelo(modelo, red, x_entrenamiento, y_entrenamiento, x_test, y_test, epochs, training_batch_size, \n",
    "                   steps_per_epoch, validation_batch_size, validation_steps):\n",
    "    entrenamiento = modelo.fit_generator(batch_generator(x_entrenamiento, y_entrenamiento, training_batch_size, 'entrenamiento', red), \n",
    "                                           steps_per_epoch=steps_per_epoch, \n",
    "                                           epochs=epochs, \n",
    "                                           validation_data=batch_generator(x_test, y_test, validation_batch_size, '', red),\n",
    "                                           validation_steps=validation_steps, \n",
    "                                           verbose=1, \n",
    "                                           shuffle=1)\n",
    "    return entrenamiento"
   ]
  },
  {
   "cell_type": "markdown",
   "metadata": {},
   "source": [
    "## Representación de valores de _loss_ de un entrenamiento"
   ]
  },
  {
   "cell_type": "code",
   "execution_count": 15,
   "metadata": {},
   "outputs": [],
   "source": [
    "def representa_loss(entrenamiento):\n",
    "    plt.plot(entrenamiento.history['loss'])\n",
    "    plt.plot(entrenamiento.history['val_loss'])\n",
    "\n",
    "    plt.legend(['Entrenamiento', 'Validación'])\n",
    "    plt.title('Loss')\n",
    "    plt.xlabel('Época')\n",
    "\n",
    "    plt.show()"
   ]
  },
  {
   "cell_type": "markdown",
   "metadata": {},
   "source": [
    "## Exportación e importación del modelo"
   ]
  },
  {
   "cell_type": "code",
   "execution_count": 16,
   "metadata": {},
   "outputs": [],
   "source": [
    "#Debe tener la extensión .h5. Se guardará en la misma carpeta donde esté este Notebook\n",
    "def exporta_modelo(modelo, nombre):\n",
    "    modelo.save(nombre)\n",
    "    \n",
    "def lee_modelo(nombre):\n",
    "    modelo = load_model(nombre)\n",
    "    return modelo"
   ]
  },
  {
   "cell_type": "markdown",
   "metadata": {},
   "source": [
    "***\n",
    "# Pruebas\n",
    "Para llevar a cabo las pruebas, hay que ejecutar antes todas las celdas superiores."
   ]
  },
  {
   "cell_type": "markdown",
   "metadata": {},
   "source": [
    "## Prueba 9: Entrenamiento de un modelo ajustado"
   ]
  },
  {
   "cell_type": "code",
   "execution_count": 17,
   "metadata": {},
   "outputs": [],
   "source": [
    "#Prerrequisitos: dataset con preprocesamiento básico\n",
    "num_bins = 23\n",
    "max_muestras_por_bin = 300\n",
    "\n",
    "dataset = lee_csv()\n",
    "datos_renombrados = renombra_imagenes(dataset)\n",
    "hist, bins = genera_histograma(datos_renombrados, num_bins)\n",
    "\n",
    "dataset_preprocesado = balancea_dataset(datos_renombrados, num_bins, bins, max_muestras_por_bin)"
   ]
  },
  {
   "cell_type": "code",
   "execution_count": 18,
   "metadata": {},
   "outputs": [],
   "source": [
    "def prueba9(dataset_preprocesado, red, epochs, training_batch_size, steps_per_epoch, \n",
    "            validation_batch_size, validation_steps, nombre_fichero):\n",
    "    print(\"--Prueba 9: Entrenamiento de un modelo ajustado--\\n\")\n",
    "    \n",
    "    try:\n",
    "        print(\"Obtención de las imágenes y sus ángulos del dataset...\\n\")\n",
    "        imgs, angulos = get_imgs_y_angulos(dataset_preprocesado)\n",
    "    except:\n",
    "        print(\"Error al obtener las imágenes y sus ángulos.\")\n",
    "        raise\n",
    "    print(\"Las imágenes y sus ángulos se han leído correctamente.\")\n",
    "    \n",
    "    try:\n",
    "        print(\"\\nDivisión del dataset en conjuntos de entrenamiento (80%) y validación (20%)...\\n\")\n",
    "        x_entrenamiento, x_test, y_entrenamiento, y_test = divide_dataset(imgs, angulos)\n",
    "    except:\n",
    "        print(\"Error al dividir el dataset.\")\n",
    "        raise\n",
    "    print(\"División realizada correctamente.\\n\")\n",
    "    \n",
    "    tamano_dataset = len(imgs)\n",
    "    tamano_entrenamiento = len(x_entrenamiento)\n",
    "    tamano_validacion = len(x_test)\n",
    "    print(\"Tamaño del dataset antes de dividirse: {}\".format(tamano_dataset))\n",
    "    print(\"\\nTamaño del subconjunto de entrenamiento: {}, un {}%\".format(tamano_entrenamiento, \n",
    "                                                                         round((tamano_entrenamiento/tamano_dataset) * 100)))\n",
    "    print(\"\\nTamaño del subconjunto de validación: {}, un {}%\".format(tamano_validacion, \n",
    "                                                                      round((tamano_validacion/tamano_dataset) * 100)))\n",
    "        \n",
    "    try:\n",
    "        print(\"Creación del modelo elegido...\\n\")\n",
    "        if red == 'nvidia':\n",
    "            modelo = crea_modelo_nvidia()\n",
    "        elif red == 'lenet5':\n",
    "            modelo = crea_modelo_lenet5()\n",
    "        else:\n",
    "            raise ValueError('No se ha seleccionado ninguna de las dos redes neuronales!')\n",
    "    except:\n",
    "        print(\"Error al crear el modelo.\")\n",
    "        raise\n",
    "    print(\"El modelo de {} se ha creado correctamente.\".format(red))\n",
    "    \n",
    "    print(\"\\nEstructura del modelo creado:\")\n",
    "    print(modelo.summary())\n",
    "    \n",
    "    try:\n",
    "        print(\"\\nEntrenamiento del modelo...\\n\")\n",
    "        print(\"Configuración elegida:\\n\")\n",
    "        print(\"Número de épocas: {}\\n\".format(epochs))\n",
    "        print(\"training_batch_size: {}\\n\".format(training_batch_size))\n",
    "        print(\"steps_per_epoch: {}\\n\".format(steps_per_epoch))\n",
    "        print(\"validation_batch_size: {}\\n\".format(validation_batch_size))\n",
    "        print(\"validation_steps: {}\\n\".format(validation_steps))\n",
    "\n",
    "        entrenamiento = entrena_modelo(modelo, red, x_entrenamiento, y_entrenamiento, x_test, y_test, epochs, \n",
    "                                       training_batch_size, steps_per_epoch, validation_batch_size, validation_steps)\n",
    "    except:\n",
    "        print(\"Error al entrenar el modelo.\")\n",
    "        raise\n",
    "    print(\"\\nEl modelo se ha entrenado correctamente.\")\n",
    "    \n",
    "    try:\n",
    "        print(\"\\nValores de loss del modelo...\\n\")\n",
    "        representa_loss(entrenamiento)\n",
    "    except:\n",
    "        print(\"Error al representar la gráfica.\")\n",
    "        raise\n",
    "    \n",
    "    try:\n",
    "        print(\"\\nExportando el modelo con el nombre {}...\\n\".format(nombre_fichero))\n",
    "        exporta_modelo(modelo, nombre_fichero)\n",
    "    except:\n",
    "        print(\"Error al exportar el modelo.\")\n",
    "        raise\n",
    "    print(\"Modelo exportado correctamente.\")"
   ]
  },
  {
   "cell_type": "code",
   "execution_count": 19,
   "metadata": {
    "scrolled": false
   },
   "outputs": [
    {
     "name": "stdout",
     "output_type": "stream",
     "text": [
      "--Prueba 9: Entrenamiento de un modelo ajustado--\n",
      "\n",
      "Obtención de las imágenes y sus ángulos del dataset...\n",
      "\n",
      "Las imágenes y sus ángulos se han leído correctamente.\n",
      "\n",
      "División del dataset en conjuntos de entrenamiento (80%) y validación (20%)...\n",
      "\n",
      "División realizada correctamente.\n",
      "\n",
      "Tamaño del dataset antes de dividirse: 6576\n",
      "\n",
      "Tamaño del subconjunto de entrenamiento: 5260, un 80%\n",
      "\n",
      "Tamaño del subconjunto de validación: 1316, un 20%\n",
      "Creación del modelo elegido...\n",
      "\n",
      "El modelo de nvidia se ha creado correctamente.\n",
      "\n",
      "Estructura del modelo creado:\n",
      "_________________________________________________________________\n",
      "Layer (type)                 Output Shape              Param #   \n",
      "=================================================================\n",
      "conv2d_1 (Conv2D)            (None, 31, 98, 24)        1824      \n",
      "_________________________________________________________________\n",
      "conv2d_2 (Conv2D)            (None, 14, 47, 36)        21636     \n",
      "_________________________________________________________________\n",
      "conv2d_3 (Conv2D)            (None, 5, 22, 48)         43248     \n",
      "_________________________________________________________________\n",
      "conv2d_4 (Conv2D)            (None, 3, 20, 64)         27712     \n",
      "_________________________________________________________________\n",
      "conv2d_5 (Conv2D)            (None, 1, 18, 64)         36928     \n",
      "_________________________________________________________________\n",
      "flatten_1 (Flatten)          (None, 1152)              0         \n",
      "_________________________________________________________________\n",
      "dense_1 (Dense)              (None, 100)               115300    \n",
      "_________________________________________________________________\n",
      "dense_2 (Dense)              (None, 50)                5050      \n",
      "_________________________________________________________________\n",
      "dense_3 (Dense)              (None, 10)                510       \n",
      "_________________________________________________________________\n",
      "dense_4 (Dense)              (None, 1)                 11        \n",
      "=================================================================\n",
      "Total params: 252,219\n",
      "Trainable params: 252,219\n",
      "Non-trainable params: 0\n",
      "_________________________________________________________________\n",
      "None\n",
      "\n",
      "Entrenamiento del modelo...\n",
      "\n",
      "Configuración elegida:\n",
      "\n",
      "Número de épocas: 10\n",
      "\n",
      "training_batch_size: 150\n",
      "\n",
      "steps_per_epoch: 300\n",
      "\n",
      "validation_batch_size: 100\n",
      "\n",
      "validation_steps: 200\n",
      "\n",
      "Epoch 1/10\n",
      "300/300 [==============================] - 151s 504ms/step - loss: 0.0898 - val_loss: 0.0486\n",
      "Epoch 2/10\n",
      "300/300 [==============================] - 147s 489ms/step - loss: 0.0513 - val_loss: 0.0427\n",
      "Epoch 3/10\n",
      "300/300 [==============================] - 146s 487ms/step - loss: 0.0475 - val_loss: 0.0405\n",
      "Epoch 4/10\n",
      "300/300 [==============================] - 145s 485ms/step - loss: 0.0425 - val_loss: 0.0279\n",
      "Epoch 5/10\n",
      "300/300 [==============================] - 146s 487ms/step - loss: 0.0390 - val_loss: 0.0311\n",
      "Epoch 6/10\n",
      "300/300 [==============================] - 147s 489ms/step - loss: 0.0370 - val_loss: 0.0273\n",
      "Epoch 7/10\n",
      "300/300 [==============================] - 145s 485ms/step - loss: 0.0345 - val_loss: 0.0248\n",
      "Epoch 8/10\n",
      "300/300 [==============================] - 145s 483ms/step - loss: 0.0327 - val_loss: 0.0253\n",
      "Epoch 9/10\n",
      "300/300 [==============================] - 146s 488ms/step - loss: 0.0321 - val_loss: 0.0249\n",
      "Epoch 10/10\n",
      "300/300 [==============================] - 148s 494ms/step - loss: 0.0308 - val_loss: 0.0237\n",
      "\n",
      "El modelo se ha entrenado correctamente.\n",
      "\n",
      "Valores de loss del modelo...\n",
      "\n"
     ]
    },
    {
     "data": {
      "image/png": "[encoded data removed]",
      "text/plain": [
       "<Figure size 432x288 with 1 Axes>"
      ]
     },
     "metadata": {
      "needs_background": "light"
     },
     "output_type": "display_data"
    },
    {
     "name": "stdout",
     "output_type": "stream",
     "text": [
      "\n",
      "Exportando el modelo con el nombre nvidiaprueba9.h5...\n",
      "\n",
      "Modelo exportado correctamente.\n"
     ]
    }
   ],
   "source": [
    "#prueba9(dataset_preprocesado, red, epochs, training_batch_size, steps_per_epoch, \n",
    "#                                                       validation_batch_size, validation_steps, nombre_fichero)\n",
    "prueba9(dataset_preprocesado, \"nvidia\", 10, 150, 300, 100, 200, \"nvidiaprueba9.h5\")"
   ]
  }
 ],
 "metadata": {
  "kernelspec": {
   "display_name": "Python 3",
   "language": "python",
   "name": "python3"
  },
  "language_info": {
   "codemirror_mode": {
    "name": "ipython",
    "version": 3
   },
   "file_extension": ".py",
   "mimetype": "text/x-python",
   "name": "python",
   "nbconvert_exporter": "python",
   "pygments_lexer": "ipython3",
   "version": "3.6.9"
  }
 },
 "nbformat": 4,
 "nbformat_minor": 2
}
