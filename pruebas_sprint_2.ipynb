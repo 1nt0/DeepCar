{
 "cells": [
  {
   "cell_type": "code",
   "execution_count": 1,
   "metadata": {},
   "outputs": [
    {
     "name": "stderr",
     "output_type": "stream",
     "text": [
      "Using TensorFlow backend.\n"
     ]
    }
   ],
   "source": [
    "import os\n",
    "import numpy as np\n",
    "import matplotlib.pyplot as plt\n",
    "import matplotlib.image as mpimg\n",
    "import pandas as pd\n",
    "import ntpath\n",
    "\n",
    "from sklearn.utils import shuffle\n",
    "from sklearn.model_selection import train_test_split\n",
    "import random\n",
    "import cv2\n",
    "\n",
    "import keras\n",
    "from keras.models import Sequential\n",
    "from keras.optimizers import Adam\n",
    "from keras.layers import Conv2D, Convolution2D, MaxPooling2D, Dropout, Flatten, Dense"
   ]
  },
  {
   "cell_type": "markdown",
   "metadata": {},
   "source": [
    "## Lectura del fichero CSV\n",
    "Vamos a suponer que no se ha cambiado el nombre del fichero csv generado en el simulador, y que se encuentra en la misma carpeta que este Notebook."
   ]
  },
  {
   "cell_type": "code",
   "execution_count": 2,
   "metadata": {},
   "outputs": [],
   "source": [
    "def lee_csv():\n",
    "    #Lectura en crudo del fichero CSV generado, añadiendo los labels a cada columna\n",
    "    columnas = ['centro', 'izquierda', 'derecha', 'angulo', 'acelerador', 'freno', 'velocidad']\n",
    "    datos = pd.read_csv('driving_log.csv', names = columnas)\n",
    "\n",
    "    return datos"
   ]
  },
  {
   "cell_type": "markdown",
   "metadata": {},
   "source": [
    "## Renombre de la ruta de las imágenes\n",
    "Se elimina la ruta absoluta de las imágenes, de esta forma el dataset puede ser usado en diferentes máquinas y/o en diferentes carpetas."
   ]
  },
  {
   "cell_type": "code",
   "execution_count": 3,
   "metadata": {},
   "outputs": [],
   "source": [
    "def renombra_imagenes(datos):\n",
    "    #Modificación de las 3 primeras columnas, correspondiente a la ruta de las imágenes\n",
    "    datos['centro'] = datos['centro'].apply(get_tail)\n",
    "    datos['izquierda'] = datos['izquierda'].apply(get_tail)\n",
    "    datos['derecha'] = datos['derecha'].apply(get_tail)\n",
    "    \n",
    "    return datos\n",
    "\n",
    "#Función para obtener la 'hoja' del árbol perteneciente a la ruta absoluta de la imagen, que corresponde con su nombre\n",
    "def get_tail(path):\n",
    "    head, tail = ntpath.split(path) #Separando por \"/\", tail es el último elemento, y head todo lo anterior\n",
    "    \n",
    "    return tail"
   ]
  },
  {
   "cell_type": "markdown",
   "metadata": {},
   "source": [
    "## Funciones de generación y dibujado del histograma"
   ]
  },
  {
   "cell_type": "code",
   "execution_count": 4,
   "metadata": {},
   "outputs": [],
   "source": [
    "def genera_histograma(datos, num_bins):\n",
    "    #Generación del histograma (sus variables serán usadas en la celda siguiente para procesar los elementos sobrantes)\n",
    "    hist, bins = np.histogram(datos['angulo'], num_bins)\n",
    "    return hist, bins\n",
    "\n",
    "def dibuja_histograma(datos, num_bins, max_muestras_por_bin=0):\n",
    "    #Dibujado del histograma\n",
    "    plt.hist(datos['angulo'], num_bins)\n",
    "\n",
    "    plt.xlabel('Ángulo')\n",
    "    plt.ylabel('Frecuencia')\n",
    "    plt.title(\"Distribución de los ángulos\") \n",
    "\n",
    "    if max_muestras_por_bin != 0:\n",
    "        #Línea representando max_muestras_por_bin sobre el histograma\n",
    "        plt.plot((np.min(datos['angulo']), np.max(datos['angulo'])), (max_muestras_por_bin, max_muestras_por_bin))\n",
    "\n",
    "    plt.show()"
   ]
  },
  {
   "cell_type": "markdown",
   "metadata": {},
   "source": [
    "## Balanceo del dataset"
   ]
  },
  {
   "cell_type": "code",
   "execution_count": 5,
   "metadata": {},
   "outputs": [],
   "source": [
    "#-------------BALANCEO DEL DATASET------------------------\n",
    "def balancea_dataset(datos, num_bins, bins, max_muestras_por_bin):\n",
    "    datos_preprocesados = datos.copy() #Copia del dataset original\n",
    "    elementos_a_eliminar = []\n",
    "\n",
    "    #Recorrido de cada bin\n",
    "    for i in range(num_bins):\n",
    "      lista = []\n",
    "    #Recorrido de cada elemento del dataset: si el ángulo pertenece al bin que estamos recorriendo, lo \n",
    "    #metemos en la lista\n",
    "      for j in range(len(datos['angulo'])):\n",
    "        if datos['angulo'][j] >= bins[i] and datos['angulo'][j] <= bins[i+1]:\n",
    "          lista.append(j)\n",
    "\n",
    "    #Mezclamos los elementos que pertenecen al bin\n",
    "      lista = shuffle(lista)\n",
    "      #Nos quedamos con las \"sobras\" basado en el umbral que hayamos decidido (max_muestras_por_bin), para posteriormente\n",
    "      #añadirlo a elementos_a_eliminar y utilizarla como lista con los elementos a eliminar en el dataset\n",
    "      lista = lista[max_muestras_por_bin:]\n",
    "      elementos_a_eliminar.extend(lista)\n",
    "\n",
    "    #Eliminamos dichos datos del dataset\n",
    "    datos_preprocesados.drop(datos_preprocesados.index[elementos_a_eliminar], inplace=True)\n",
    "    \n",
    "    return datos_preprocesados"
   ]
  },
  {
   "cell_type": "markdown",
   "metadata": {},
   "source": [
    "## Función para devolver solo las imágenes y los ángulos del dataset"
   ]
  },
  {
   "cell_type": "code",
   "execution_count": 6,
   "metadata": {},
   "outputs": [],
   "source": [
    "#Obtención de las imágenes y sus ángulos del dataset\n",
    "def get_imgs_y_angulos(datos):\n",
    "    imagenes = []\n",
    "    angulos = []\n",
    "    for i in range(len(datos)):\n",
    "        elemento = datos.iloc[i]\n",
    "        \n",
    "        imagen_centro = elemento[0]\n",
    "        imagenes.append(os.path.join('IMG/', imagen_centro))\n",
    "        angulo = elemento[3]\n",
    "        angulos.append(angulo)\n",
    "        \n",
    "    imagenes = np.asarray(imagenes)\n",
    "    angulos = np.asarray(angulos)\n",
    "    \n",
    "    return imagenes, angulos"
   ]
  },
  {
   "cell_type": "markdown",
   "metadata": {},
   "source": [
    "## División del dataset en conjuntos de entrenamiento y prueba"
   ]
  },
  {
   "cell_type": "code",
   "execution_count": 7,
   "metadata": {},
   "outputs": [],
   "source": [
    "#División del dataset en conjuntos de entrenamiento y prueba\n",
    "def divide_dataset(imagenes, angulos):\n",
    "    x_entrenamiento, x_test, y_entrenamiento, y_test = train_test_split(imagenes, angulos, train_size=0.8)\n",
    "    \n",
    "    return x_entrenamiento, x_test, y_entrenamiento, y_test"
   ]
  },
  {
   "cell_type": "markdown",
   "metadata": {},
   "source": [
    "## Funciones para la transformación de imágenes"
   ]
  },
  {
   "cell_type": "code",
   "execution_count": 8,
   "metadata": {},
   "outputs": [],
   "source": [
    "#-----CONJUNTO DE FUNCIONES PARA EL PREPROCESAMIENTO DE IMÁGENES----\n",
    "def recorte(img):\n",
    "    img = img[70:135,:,:] \n",
    "    return img\n",
    "\n",
    "def RGBaYUV(img):\n",
    "    img = cv2.cvtColor(img, cv2.COLOR_RGB2YUV) \n",
    "    return img\n",
    "\n",
    "def RGBaGRAY(img):\n",
    "    img = cv2.cvtColor(img, cv2.COLOR_RGB2GRAY)\n",
    "    return img\n",
    "\n",
    "def redimensionar_imagen(img, x, y):\n",
    "    img = cv2.resize(img, (x, y))\n",
    "    return img\n",
    "\n",
    "def normalizar_imagen(img):\n",
    "    img = img/255\n",
    "    return img"
   ]
  },
  {
   "cell_type": "markdown",
   "metadata": {},
   "source": [
    "## Preprocesamiento de imágenes necesario para cada arquitectura neuronal"
   ]
  },
  {
   "cell_type": "code",
   "execution_count": 9,
   "metadata": {},
   "outputs": [],
   "source": [
    "#Función de preprocesamiento de imágenes para el modelo de LeNet-5\n",
    "def img_preproceso_lenet5(img):\n",
    "    img = mpimg.imread(img)\n",
    "    \n",
    "    img = recorte(img)\n",
    "    img = RGBaGRAY(img)\n",
    "    img = redimensionar_imagen(img, 32, 32)\n",
    "    img = img[:, :, np.newaxis]\n",
    "    img = normalizar_imagen(img)\n",
    "    return img\n",
    "\n",
    "#Función de preprocesamiento de imágenes para el modelo de NVIDIA\n",
    "def img_preproceso_nvidia(img):\n",
    "    img = mpimg.imread(img)\n",
    "    \n",
    "    img = recorte(img)\n",
    "    img = RGBaYUV(img)\n",
    "    img = redimensionar_imagen(img, 200, 66)\n",
    "    img = normalizar_imagen(img)\n",
    "    return img"
   ]
  },
  {
   "cell_type": "markdown",
   "metadata": {},
   "source": [
    "## Funciones para realizar las transformaciones a todas las imágenes del dataset en función de la arquitectura neuronal"
   ]
  },
  {
   "cell_type": "code",
   "execution_count": 10,
   "metadata": {},
   "outputs": [],
   "source": [
    "#Procesamiento de todas las imágenes de los subconjuntos x_entrenamiento y x_test \n",
    "\n",
    "#Procesamiento para el modelo LeNet-5\n",
    "def preproceso_dataset_lenet5(x_entrenamiento, x_test):\n",
    "    x_entrenamiento = np.array([img_preproceso_lenet5(x) for x in x_entrenamiento])\n",
    "    x_test = np.array([img_preproceso_lenet5(x) for x in x_test])\n",
    "    \n",
    "    return x_entrenamiento, x_test\n",
    "    \n",
    "\n",
    "#Procesamiento para el modelo NVIDIA\n",
    "def preproceso_dataset_nvidia(x_entrenamiento, x_test):\n",
    "    x_entrenamiento = np.array([img_preproceso_nvidia(x) for x in x_entrenamiento])\n",
    "    x_test = np.array([img_preproceso_nvidia(x) for x in x_test])\n",
    "    \n",
    "    return x_entrenamiento, x_test"
   ]
  },
  {
   "cell_type": "markdown",
   "metadata": {},
   "source": [
    "## Definición de los dos modelos neuronales"
   ]
  },
  {
   "cell_type": "code",
   "execution_count": 11,
   "metadata": {},
   "outputs": [],
   "source": [
    "def crea_modelo_lenet5():\n",
    "    modelo = Sequential()\n",
    "\n",
    "    modelo.add(Conv2D(6, (5, 5), activation='relu', input_shape=(32, 32, 1)))\n",
    "    modelo.add(MaxPooling2D(pool_size=(2, 2)))\n",
    "\n",
    "    modelo.add(Conv2D(16, (5, 5), activation='relu'))\n",
    "    modelo.add(MaxPooling2D(pool_size=(2, 2)))\n",
    "\n",
    "    modelo.add(Conv2D(120, (5, 5), activation='relu'))\n",
    "    \n",
    "    modelo.add(Flatten())\n",
    "\n",
    "    modelo.add(Dense(84, activation='relu'))\n",
    "\n",
    "    modelo.add(Dense(1))\n",
    "    \n",
    "    optimizador = Adam(lr=1e-3)\n",
    "    modelo.compile(loss='mse', optimizer=optimizador)\n",
    "    \n",
    "    return modelo\n",
    "\n",
    "\n",
    "def crea_modelo_nvidia():\n",
    "    modelo = Sequential()\n",
    "    \n",
    "    modelo.add(Conv2D(24, (5, 5), strides=(2, 2), input_shape=(66, 200, 3), activation='relu'))\n",
    "    modelo.add(Conv2D(36, (5, 5), strides=(2, 2), activation='relu'))\n",
    "    modelo.add(Conv2D(48, (5, 5), strides=(2, 2), activation='relu'))\n",
    "    modelo.add(Conv2D(64, (3, 3), activation='relu'))\n",
    "    modelo.add(Conv2D(64, (3, 3), activation='relu'))\n",
    "    \n",
    "    modelo.add(Flatten())\n",
    "    \n",
    "    modelo.add(Dense(100, activation='relu'))\n",
    "    modelo.add(Dense(50, activation='relu'))\n",
    "    modelo.add(Dense(10, activation='relu'))\n",
    "    modelo.add(Dense(1))\n",
    "    \n",
    "    optimizador = Adam(lr=1e-3)\n",
    "    modelo.compile(loss='mse', optimizer=optimizador)\n",
    "    \n",
    "    return modelo"
   ]
  },
  {
   "cell_type": "markdown",
   "metadata": {},
   "source": [
    "## Entrenamiento del modelo"
   ]
  },
  {
   "cell_type": "code",
   "execution_count": 12,
   "metadata": {},
   "outputs": [],
   "source": [
    "def entrena_modelo(modelo, x_entrenamiento, y_entrenamiento, x_test, y_test, epochs, batch_size):\n",
    "    entrenamiento = modelo.fit(x_entrenamiento, y_entrenamiento, epochs=epochs, validation_data=(x_test, y_test), \n",
    "                       batch_size=batch_size, verbose=1, shuffle=1)\n",
    "    \n",
    "    return entrenamiento"
   ]
  },
  {
   "cell_type": "markdown",
   "metadata": {},
   "source": [
    "## Representación de valores de loss de un entrenamiento"
   ]
  },
  {
   "cell_type": "code",
   "execution_count": 13,
   "metadata": {},
   "outputs": [],
   "source": [
    "def representa_loss(entrenamiento):\n",
    "    plt.plot(entrenamiento.history['loss'])\n",
    "    plt.plot(entrenamiento.history['val_loss'])\n",
    "\n",
    "    plt.legend(['Entrenamiento', 'Validación'])\n",
    "    plt.title('Loss')\n",
    "    plt.xlabel('Época')\n",
    "\n",
    "    plt.show()"
   ]
  },
  {
   "cell_type": "markdown",
   "metadata": {},
   "source": [
    "***\n",
    "# Pruebas\n",
    "Para llevar a cabo las pruebas, hay que ejecutar antes todas las celdas superiores."
   ]
  },
  {
   "cell_type": "markdown",
   "metadata": {},
   "source": [
    "## Prueba 4: Creación de modelo NVIDIA"
   ]
  },
  {
   "cell_type": "code",
   "execution_count": 14,
   "metadata": {},
   "outputs": [],
   "source": [
    "def prueba4():\n",
    "    print(\"--Prueba 4: Creación del modelo NVIDIA--\\n\")\n",
    "    \n",
    "    try:\n",
    "        print(\"Creación del modelo...\\n\")\n",
    "        modelo = crea_modelo_nvidia()\n",
    "    except:\n",
    "        print(\"Error al crear el modelo.\")\n",
    "        raise\n",
    "    print(\"El modelo de NVIDIA se ha creado correctamente.\")\n",
    "    \n",
    "    print(\"\\nEstructura del modelo creado:\")\n",
    "    print(modelo.summary())\n",
    "    print(\"\\nClase del modelo: {}\".format(type(modelo)))"
   ]
  },
  {
   "cell_type": "code",
   "execution_count": 15,
   "metadata": {
    "scrolled": false
   },
   "outputs": [
    {
     "name": "stdout",
     "output_type": "stream",
     "text": [
      "--Prueba 4: Creación del modelo NVIDIA--\n",
      "\n",
      "Creación del modelo...\n",
      "\n",
      "El modelo de NVIDIA se ha creado correctamente.\n",
      "\n",
      "Estructura del modelo creado:\n",
      "_________________________________________________________________\n",
      "Layer (type)                 Output Shape              Param #   \n",
      "=================================================================\n",
      "conv2d_1 (Conv2D)            (None, 31, 98, 24)        1824      \n",
      "_________________________________________________________________\n",
      "conv2d_2 (Conv2D)            (None, 14, 47, 36)        21636     \n",
      "_________________________________________________________________\n",
      "conv2d_3 (Conv2D)            (None, 5, 22, 48)         43248     \n",
      "_________________________________________________________________\n",
      "conv2d_4 (Conv2D)            (None, 3, 20, 64)         27712     \n",
      "_________________________________________________________________\n",
      "conv2d_5 (Conv2D)            (None, 1, 18, 64)         36928     \n",
      "_________________________________________________________________\n",
      "flatten_1 (Flatten)          (None, 1152)              0         \n",
      "_________________________________________________________________\n",
      "dense_1 (Dense)              (None, 100)               115300    \n",
      "_________________________________________________________________\n",
      "dense_2 (Dense)              (None, 50)                5050      \n",
      "_________________________________________________________________\n",
      "dense_3 (Dense)              (None, 10)                510       \n",
      "_________________________________________________________________\n",
      "dense_4 (Dense)              (None, 1)                 11        \n",
      "=================================================================\n",
      "Total params: 252,219\n",
      "Trainable params: 252,219\n",
      "Non-trainable params: 0\n",
      "_________________________________________________________________\n",
      "None\n",
      "\n",
      "Clase del modelo: <class 'keras.models.Sequential'>\n"
     ]
    }
   ],
   "source": [
    "prueba4()"
   ]
  },
  {
   "cell_type": "markdown",
   "metadata": {},
   "source": [
    "## Prueba 5: Creación de modelo LeNet-5"
   ]
  },
  {
   "cell_type": "code",
   "execution_count": 16,
   "metadata": {},
   "outputs": [],
   "source": [
    "def prueba5():\n",
    "    print(\"--Prueba 5: Creación del modelo LeNet-5--\\n\")\n",
    "    \n",
    "    try:\n",
    "        print(\"Creación del modelo...\\n\")\n",
    "        modelo = crea_modelo_lenet5()\n",
    "    except:\n",
    "        print(\"Error al crear el modelo.\")\n",
    "        raise\n",
    "    print(\"El modelo de LeNet-5 se ha creado correctamente.\")\n",
    "    \n",
    "    print(\"\\nEstructura del modelo creado:\")\n",
    "    print(modelo.summary())\n",
    "    print(\"\\nClase del modelo: {}\".format(type(modelo)))"
   ]
  },
  {
   "cell_type": "code",
   "execution_count": 17,
   "metadata": {
    "scrolled": false
   },
   "outputs": [
    {
     "name": "stdout",
     "output_type": "stream",
     "text": [
      "--Prueba 5: Creación del modelo LeNet-5--\n",
      "\n",
      "Creación del modelo...\n",
      "\n",
      "El modelo de LeNet-5 se ha creado correctamente.\n",
      "\n",
      "Estructura del modelo creado:\n",
      "_________________________________________________________________\n",
      "Layer (type)                 Output Shape              Param #   \n",
      "=================================================================\n",
      "conv2d_6 (Conv2D)            (None, 28, 28, 6)         156       \n",
      "_________________________________________________________________\n",
      "max_pooling2d_1 (MaxPooling2 (None, 14, 14, 6)         0         \n",
      "_________________________________________________________________\n",
      "conv2d_7 (Conv2D)            (None, 10, 10, 16)        2416      \n",
      "_________________________________________________________________\n",
      "max_pooling2d_2 (MaxPooling2 (None, 5, 5, 16)          0         \n",
      "_________________________________________________________________\n",
      "conv2d_8 (Conv2D)            (None, 1, 1, 120)         48120     \n",
      "_________________________________________________________________\n",
      "flatten_2 (Flatten)          (None, 120)               0         \n",
      "_________________________________________________________________\n",
      "dense_5 (Dense)              (None, 84)                10164     \n",
      "_________________________________________________________________\n",
      "dense_6 (Dense)              (None, 1)                 85        \n",
      "=================================================================\n",
      "Total params: 60,941\n",
      "Trainable params: 60,941\n",
      "Non-trainable params: 0\n",
      "_________________________________________________________________\n",
      "None\n",
      "\n",
      "Clase del modelo: <class 'keras.models.Sequential'>\n"
     ]
    }
   ],
   "source": [
    "prueba5()"
   ]
  },
  {
   "cell_type": "markdown",
   "metadata": {},
   "source": [
    "## Prueba 6: Entrenamiento del modelo NVIDIA"
   ]
  },
  {
   "cell_type": "code",
   "execution_count": 18,
   "metadata": {},
   "outputs": [],
   "source": [
    "#Prerrequisitos: dataset con preprocesamiento básico\n",
    "num_bins = 23\n",
    "max_muestras_por_bin = 300\n",
    "\n",
    "dataset = lee_csv()\n",
    "datos_renombrados = renombra_imagenes(dataset)\n",
    "hist, bins = genera_histograma(datos_renombrados, num_bins)\n",
    "\n",
    "dataset_preprocesado = balancea_dataset(datos_renombrados, num_bins, bins, max_muestras_por_bin)"
   ]
  },
  {
   "cell_type": "code",
   "execution_count": 19,
   "metadata": {},
   "outputs": [],
   "source": [
    "def prueba6(dataset_preprocesado, epochs, batch_size):\n",
    "    print(\"--Prueba 6: Entrenamiento del modelo NVIDIA--\\n\")\n",
    "    \n",
    "    try:\n",
    "        print(\"Obtención de las imágenes y sus ángulos del dataset...\\n\")\n",
    "        imgs, angulos = get_imgs_y_angulos(dataset_preprocesado)\n",
    "    except:\n",
    "        print(\"Error al obtener las imágenes y sus ángulos.\")\n",
    "        raise\n",
    "    print(\"Las imágenes y sus ángulos se han leído correctamente.\")\n",
    "    \n",
    "    try:\n",
    "        print(\"\\nDivisión del dataset en conjuntos de entrenamiento (80%) y validación (20%)...\\n\")\n",
    "        x_entrenamiento, x_test, y_entrenamiento, y_test = divide_dataset(imgs, angulos)\n",
    "    except:\n",
    "        print(\"Error al dividir el dataset.\")\n",
    "        raise\n",
    "    print(\"División realizada correctamente.\\n\")\n",
    "    \n",
    "    tamano_dataset = len(dataset_preprocesado)\n",
    "    tamano_entrenamiento = len(x_entrenamiento)\n",
    "    tamano_validacion = len(x_test)\n",
    "    print(\"Tamaño del dataset antes de dividirse: {}\".format(tamano_dataset))\n",
    "    print(\"\\nTamaño del subconjunto de entrenamiento: {}, un {}%\".format(tamano_entrenamiento, \n",
    "                                                                         round((tamano_entrenamiento/tamano_dataset) * 100)))\n",
    "    print(\"\\nTamaño del subconjunto de validación: {}, un {}%\".format(tamano_validacion, \n",
    "                                                                      round((tamano_validacion/tamano_dataset) * 100)))\n",
    "    \n",
    "    try:\n",
    "        print(\"\\nPreprocesamiento de las imágenes de ambos conjuntos para adaptarlas a los requisitos del modelo de NVIDIA...\\n\")\n",
    "        x_entrenamiento, x_test = preproceso_dataset_nvidia(x_entrenamiento, x_test)\n",
    "    except:\n",
    "        print(\"Error al preprocesar todas las imágenes.\")\n",
    "        raise\n",
    "    print(\"Preprocesamiento de imágenes realizado correctamente.\\n\")\n",
    "    \n",
    "    try:\n",
    "        print(\"Muestra del procesamiento realizado sobre una imagen al azar en ambos conjuntos...\\n\")\n",
    "        num_random_entrenamiento = random.randrange(0, len(x_entrenamiento))\n",
    "        num_random_validacion = random.randrange(0, len(x_test))\n",
    "        img_entrenamiento = x_entrenamiento[num_random_entrenamiento]\n",
    "        img_validacion = x_test[num_random_validacion]\n",
    "        \n",
    "        print(\"Imagen aleatoria del conjunto de entrenamiento:\")\n",
    "        plt.imshow(img_entrenamiento)\n",
    "        plt.show()\n",
    "        \n",
    "        print(\"Imagen aleatoria del conjunto de validación:\")\n",
    "        plt.imshow(img_validacion)\n",
    "        plt.show()\n",
    "    except:\n",
    "        print(\"Error al seleccionar o mostrar la imagen.\")\n",
    "        raise\n",
    "        \n",
    "    try:\n",
    "        print(\"Creación del modelo de NVIDIA...\\n\")\n",
    "        modelo = crea_modelo_nvidia()\n",
    "    except:\n",
    "        print(\"Error al crear el modelo.\")\n",
    "        raise\n",
    "    print(\"El modelo de NVIDIA se ha creado correctamente.\")\n",
    "    \n",
    "    print(\"\\nEstructura del modelo creado:\")\n",
    "    print(modelo.summary())\n",
    "    \n",
    "    try:\n",
    "        print(\"\\nEntrenamiento del modelo...\\n\")\n",
    "        print(\"Número de épocas elegidas: {}. Batch_size: {}\\n\".format(epochs, batch_size))\n",
    "        entrenamiento = entrena_modelo(modelo, x_entrenamiento, y_entrenamiento, x_test, y_test, epochs, batch_size)\n",
    "    except:\n",
    "        print(\"Error al entrenar el modelo.\")\n",
    "        raise\n",
    "    print(\"\\nEl modelo de NVIDIA se ha entrenado correctamente.\")\n",
    "    \n",
    "    try:\n",
    "        print(\"\\nValores de loss del modelo...\\n\")\n",
    "        representa_loss(entrenamiento)\n",
    "    except:\n",
    "        print(\"Error al representar la gráfica.\")\n",
    "        raise"
   ]
  },
  {
   "cell_type": "code",
   "execution_count": 20,
   "metadata": {
    "scrolled": false
   },
   "outputs": [
    {
     "name": "stdout",
     "output_type": "stream",
     "text": [
      "--Prueba 6: Entrenamiento del modelo NVIDIA--\n",
      "\n",
      "Obtención de las imágenes y sus ángulos del dataset...\n",
      "\n",
      "Las imágenes y sus ángulos se han leído correctamente.\n",
      "\n",
      "División del dataset en conjuntos de entrenamiento (80%) y validación (20%)...\n",
      "\n",
      "División realizada correctamente.\n",
      "\n",
      "Tamaño del dataset antes de dividirse: 2192\n",
      "\n",
      "Tamaño del subconjunto de entrenamiento: 1753, un 80%\n",
      "\n",
      "Tamaño del subconjunto de validación: 439, un 20%\n",
      "\n",
      "Preprocesamiento de las imágenes de ambos conjuntos para adaptarlas a los requisitos del modelo de NVIDIA...\n",
      "\n",
      "Preprocesamiento de imágenes realizado correctamente.\n",
      "\n",
      "Muestra del procesamiento realizado sobre una imagen al azar en ambos conjuntos...\n",
      "\n",
      "Imagen aleatoria del conjunto de entrenamiento:\n"
     ]
    },
    {
     "data": {
      "image/png": "[encoded data removed]",
      "text/plain": [
       "<Figure size 432x288 with 1 Axes>"
      ]
     },
     "metadata": {
      "needs_background": "light"
     },
     "output_type": "display_data"
    },
    {
     "name": "stdout",
     "output_type": "stream",
     "text": [
      "Imagen aleatoria del conjunto de validación:\n"
     ]
    },
    {
     "data": {
      "image/png": "[encoded data removed]",
      "text/plain": [
       "<Figure size 432x288 with 1 Axes>"
      ]
     },
     "metadata": {
      "needs_background": "light"
     },
     "output_type": "display_data"
    },
    {
     "name": "stdout",
     "output_type": "stream",
     "text": [
      "Creación del modelo de NVIDIA...\n",
      "\n",
      "El modelo de NVIDIA se ha creado correctamente.\n",
      "\n",
      "Estructura del modelo creado:\n",
      "_________________________________________________________________\n",
      "Layer (type)                 Output Shape              Param #   \n",
      "=================================================================\n",
      "conv2d_9 (Conv2D)            (None, 31, 98, 24)        1824      \n",
      "_________________________________________________________________\n",
      "conv2d_10 (Conv2D)           (None, 14, 47, 36)        21636     \n",
      "_________________________________________________________________\n",
      "conv2d_11 (Conv2D)           (None, 5, 22, 48)         43248     \n",
      "_________________________________________________________________\n",
      "conv2d_12 (Conv2D)           (None, 3, 20, 64)         27712     \n",
      "_________________________________________________________________\n",
      "conv2d_13 (Conv2D)           (None, 1, 18, 64)         36928     \n",
      "_________________________________________________________________\n",
      "flatten_3 (Flatten)          (None, 1152)              0         \n",
      "_________________________________________________________________\n",
      "dense_7 (Dense)              (None, 100)               115300    \n",
      "_________________________________________________________________\n",
      "dense_8 (Dense)              (None, 50)                5050      \n",
      "_________________________________________________________________\n",
      "dense_9 (Dense)              (None, 10)                510       \n",
      "_________________________________________________________________\n",
      "dense_10 (Dense)             (None, 1)                 11        \n",
      "=================================================================\n",
      "Total params: 252,219\n",
      "Trainable params: 252,219\n",
      "Non-trainable params: 0\n",
      "_________________________________________________________________\n",
      "None\n",
      "\n",
      "Entrenamiento del modelo...\n",
      "\n",
      "Número de épocas elegidas: 40. Batch_size: 100\n",
      "\n",
      "Train on 1753 samples, validate on 439 samples\n",
      "Epoch 1/40\n",
      "1753/1753 [==============================] - 6s 3ms/step - loss: 0.0454 - val_loss: 0.0376\n",
      "Epoch 2/40\n",
      "1753/1753 [==============================] - 2s 1ms/step - loss: 0.0450 - val_loss: 0.0375\n",
      "Epoch 3/40\n",
      "1753/1753 [==============================] - 2s 1ms/step - loss: 0.0450 - val_loss: 0.0376\n",
      "Epoch 4/40\n",
      "1753/1753 [==============================] - 2s 1ms/step - loss: 0.0450 - val_loss: 0.0377\n",
      "Epoch 5/40\n",
      "1753/1753 [==============================] - 2s 1ms/step - loss: 0.0450 - val_loss: 0.0376\n",
      "Epoch 6/40\n",
      "1753/1753 [==============================] - 2s 1ms/step - loss: 0.0450 - val_loss: 0.0376\n",
      "Epoch 7/40\n",
      "1753/1753 [==============================] - 2s 1ms/step - loss: 0.0450 - val_loss: 0.0376\n",
      "Epoch 8/40\n",
      "1753/1753 [==============================] - 2s 1ms/step - loss: 0.0450 - val_loss: 0.0376\n",
      "Epoch 9/40\n",
      "1753/1753 [==============================] - 2s 1ms/step - loss: 0.0450 - val_loss: 0.0376\n",
      "Epoch 10/40\n",
      "1753/1753 [==============================] - 2s 1ms/step - loss: 0.0450 - val_loss: 0.0376\n",
      "Epoch 11/40\n",
      "1753/1753 [==============================] - 2s 1ms/step - loss: 0.0450 - val_loss: 0.0376\n",
      "Epoch 12/40\n",
      "1753/1753 [==============================] - 2s 1ms/step - loss: 0.0450 - val_loss: 0.0376\n",
      "Epoch 13/40\n",
      "1753/1753 [==============================] - 2s 1ms/step - loss: 0.0450 - val_loss: 0.0377\n",
      "Epoch 14/40\n",
      "1753/1753 [==============================] - 2s 1ms/step - loss: 0.0450 - val_loss: 0.0376\n",
      "Epoch 15/40\n",
      "1753/1753 [==============================] - 2s 1ms/step - loss: 0.0450 - val_loss: 0.0376\n",
      "Epoch 16/40\n",
      "1753/1753 [==============================] - 2s 1ms/step - loss: 0.0450 - val_loss: 0.0376\n",
      "Epoch 17/40\n",
      "1753/1753 [==============================] - 2s 1ms/step - loss: 0.0450 - val_loss: 0.0376\n",
      "Epoch 18/40\n",
      "1753/1753 [==============================] - 2s 1ms/step - loss: 0.0450 - val_loss: 0.0376\n",
      "Epoch 19/40\n",
      "1753/1753 [==============================] - 2s 1ms/step - loss: 0.0450 - val_loss: 0.0376\n",
      "Epoch 20/40\n",
      "1753/1753 [==============================] - 2s 1ms/step - loss: 0.0450 - val_loss: 0.0376\n",
      "Epoch 21/40\n",
      "1753/1753 [==============================] - 2s 1ms/step - loss: 0.0450 - val_loss: 0.0377\n",
      "Epoch 22/40\n",
      "1753/1753 [==============================] - 2s 1ms/step - loss: 0.0450 - val_loss: 0.0376\n",
      "Epoch 23/40\n",
      "1753/1753 [==============================] - 2s 1ms/step - loss: 0.0450 - val_loss: 0.0376\n",
      "Epoch 24/40\n",
      "1753/1753 [==============================] - 2s 1ms/step - loss: 0.0450 - val_loss: 0.0377\n",
      "Epoch 25/40\n",
      "1753/1753 [==============================] - 2s 1ms/step - loss: 0.0450 - val_loss: 0.0376\n",
      "Epoch 26/40\n",
      "1753/1753 [==============================] - 2s 1ms/step - loss: 0.0450 - val_loss: 0.0376\n",
      "Epoch 27/40\n",
      "1753/1753 [==============================] - 2s 1ms/step - loss: 0.0450 - val_loss: 0.0376\n",
      "Epoch 28/40\n",
      "1753/1753 [==============================] - 2s 1ms/step - loss: 0.0450 - val_loss: 0.0376\n",
      "Epoch 29/40\n",
      "1753/1753 [==============================] - 2s 1ms/step - loss: 0.0450 - val_loss: 0.0376\n",
      "Epoch 30/40\n",
      "1753/1753 [==============================] - 2s 1ms/step - loss: 0.0450 - val_loss: 0.0376\n",
      "Epoch 31/40\n",
      "1753/1753 [==============================] - 2s 1ms/step - loss: 0.0450 - val_loss: 0.0376\n",
      "Epoch 32/40\n",
      "1753/1753 [==============================] - 2s 1ms/step - loss: 0.0450 - val_loss: 0.0376\n",
      "Epoch 33/40\n",
      "1753/1753 [==============================] - 2s 1ms/step - loss: 0.0450 - val_loss: 0.0375\n",
      "Epoch 34/40\n",
      "1753/1753 [==============================] - 2s 1ms/step - loss: 0.0450 - val_loss: 0.0376\n",
      "Epoch 35/40\n",
      "1753/1753 [==============================] - 2s 1ms/step - loss: 0.0451 - val_loss: 0.0378\n",
      "Epoch 36/40\n",
      "1753/1753 [==============================] - 2s 1ms/step - loss: 0.0450 - val_loss: 0.0376\n",
      "Epoch 37/40\n",
      "1753/1753 [==============================] - 2s 1ms/step - loss: 0.0450 - val_loss: 0.0376\n",
      "Epoch 38/40\n",
      "1753/1753 [==============================] - 2s 1ms/step - loss: 0.0450 - val_loss: 0.0376\n",
      "Epoch 39/40\n",
      "1753/1753 [==============================] - 2s 1ms/step - loss: 0.0450 - val_loss: 0.0376\n",
      "Epoch 40/40\n",
      "1753/1753 [==============================] - 2s 1ms/step - loss: 0.0450 - val_loss: 0.0376\n",
      "\n",
      "El modelo de NVIDIA se ha entrenado correctamente.\n",
      "\n",
      "Valores de loss del modelo...\n",
      "\n"
     ]
    },
    {
     "data": {
      "image/png": "[encoded data removed]",
      "text/plain": [
       "<Figure size 432x288 with 1 Axes>"
      ]
     },
     "metadata": {
      "needs_background": "light"
     },
     "output_type": "display_data"
    }
   ],
   "source": [
    "prueba6(dataset_preprocesado, 40, 100)"
   ]
  },
  {
   "cell_type": "markdown",
   "metadata": {},
   "source": [
    "## Prueba 7: Entrenamiento del modelo LeNet-5"
   ]
  },
  {
   "cell_type": "code",
   "execution_count": 21,
   "metadata": {},
   "outputs": [],
   "source": [
    "#Prerrequisitos: dataset con preprocesamiento básico\n",
    "num_bins = 23\n",
    "max_muestras_por_bin = 300\n",
    "\n",
    "dataset = lee_csv()\n",
    "datos_renombrados = renombra_imagenes(dataset)\n",
    "hist, bins = genera_histograma(datos_renombrados, num_bins)\n",
    "\n",
    "dataset_preprocesado = balancea_dataset(datos_renombrados, num_bins, bins, max_muestras_por_bin)"
   ]
  },
  {
   "cell_type": "code",
   "execution_count": 22,
   "metadata": {},
   "outputs": [],
   "source": [
    "def prueba7(dataset_preprocesado, epochs, batch_size):\n",
    "    print(\"--Prueba 7: Entrenamiento del modelo LeNet-5--\\n\")\n",
    "    \n",
    "    try:\n",
    "        print(\"Obtención de las imágenes y sus ángulos del dataset...\\n\")\n",
    "        imgs, angulos = get_imgs_y_angulos(dataset_preprocesado)\n",
    "    except:\n",
    "        print(\"Error al obtener las imágenes y sus ángulos.\")\n",
    "        raise\n",
    "    print(\"Las imágenes y sus ángulos se han leído correctamente.\")\n",
    "    \n",
    "    try:\n",
    "        print(\"\\nDivisión del dataset en conjuntos de entrenamiento (80%) y validación (20%)...\\n\")\n",
    "        x_entrenamiento, x_test, y_entrenamiento, y_test = divide_dataset(imgs, angulos)\n",
    "    except:\n",
    "        print(\"Error al dividir el dataset.\")\n",
    "        raise\n",
    "    print(\"División realizada correctamente.\\n\")\n",
    "    \n",
    "    tamano_dataset = len(dataset_preprocesado)\n",
    "    tamano_entrenamiento = len(x_entrenamiento)\n",
    "    tamano_validacion = len(x_test)\n",
    "    print(\"Tamaño del dataset antes de dividirse: {}\".format(tamano_dataset))\n",
    "    print(\"\\nTamaño del subconjunto de entrenamiento: {}, un {}%\".format(tamano_entrenamiento, \n",
    "                                                                         round((tamano_entrenamiento/tamano_dataset) * 100)))\n",
    "    print(\"\\nTamaño del subconjunto de validación: {}, un {}%\".format(tamano_validacion, \n",
    "                                                                      round((tamano_validacion/tamano_dataset) * 100)))\n",
    "    \n",
    "    try:\n",
    "        print(\"\\nPreprocesamiento de las imágenes de ambos conjuntos para adaptarlas a los requisitos del modelo de LeNet-5...\\n\")\n",
    "        x_entrenamiento, x_test = preproceso_dataset_lenet5(x_entrenamiento, x_test)\n",
    "    except:\n",
    "        print(\"Error al preprocesar todas las imágenes.\")\n",
    "        raise\n",
    "    print(\"Preprocesamiento de imágenes realizado correctamente.\\n\")\n",
    "    \n",
    "    try:\n",
    "        print(\"Muestra del procesamiento realizado sobre una imagen al azar en ambos conjuntos...\\n\")\n",
    "        num_random_entrenamiento = random.randrange(0, len(x_entrenamiento))\n",
    "        num_random_validacion = random.randrange(0, len(x_test))\n",
    "        img_entrenamiento = x_entrenamiento[num_random_entrenamiento]\n",
    "        img_validacion = x_test[num_random_validacion]\n",
    "        \n",
    "        print(\"Imagen aleatoria del conjunto de entrenamiento:\")\n",
    "        \n",
    "        #A las imágenes con un solo canal hay que eliminarles la tercera dimensión para que se puedan mostrar correctamente\n",
    "        plt.imshow(img_entrenamiento[:,:,0], cmap='gray') \n",
    "        plt.show()\n",
    "        \n",
    "        print(\"Imagen aleatoria del conjunto de validación:\")\n",
    "        plt.imshow(img_validacion[:,:,0], cmap='gray')\n",
    "        plt.show()\n",
    "    except:\n",
    "        print(\"Error al seleccionar o mostrar la imagen.\")\n",
    "        raise\n",
    "        \n",
    "    try:\n",
    "        print(\"Creación del modelo de LeNet-5...\\n\")\n",
    "        modelo = crea_modelo_lenet5()\n",
    "    except:\n",
    "        print(\"Error al crear el modelo.\")\n",
    "        raise\n",
    "    print(\"El modelo de LeNet-5 se ha creado correctamente.\")\n",
    "    \n",
    "    print(\"\\nEstructura del modelo creado:\")\n",
    "    print(modelo.summary())\n",
    "    \n",
    "    try:\n",
    "        print(\"\\nEntrenamiento del modelo...\\n\")\n",
    "        print(\"Número de épocas elegidas: {}. Batch_size: {}\\n\".format(epochs, batch_size))\n",
    "        entrenamiento = entrena_modelo(modelo, x_entrenamiento, y_entrenamiento, x_test, y_test, epochs, batch_size)\n",
    "    except:\n",
    "        print(\"Error al entrenar el modelo.\")\n",
    "        raise\n",
    "    print(\"\\nEl modelo de LeNet-5 se ha entrenado correctamente.\")\n",
    "    \n",
    "    try:\n",
    "        print(\"\\nValores de loss del modelo...\\n\")\n",
    "        representa_loss(entrenamiento)\n",
    "    except:\n",
    "        print(\"Error al representar la gráfica.\")\n",
    "        raise"
   ]
  },
  {
   "cell_type": "code",
   "execution_count": 23,
   "metadata": {
    "scrolled": false
   },
   "outputs": [
    {
     "name": "stdout",
     "output_type": "stream",
     "text": [
      "--Prueba 7: Entrenamiento del modelo LeNet-5--\n",
      "\n",
      "Obtención de las imágenes y sus ángulos del dataset...\n",
      "\n",
      "Las imágenes y sus ángulos se han leído correctamente.\n",
      "\n",
      "División del dataset en conjuntos de entrenamiento (80%) y validación (20%)...\n",
      "\n",
      "División realizada correctamente.\n",
      "\n",
      "Tamaño del dataset antes de dividirse: 2192\n",
      "\n",
      "Tamaño del subconjunto de entrenamiento: 1753, un 80%\n",
      "\n",
      "Tamaño del subconjunto de validación: 439, un 20%\n",
      "\n",
      "Preprocesamiento de las imágenes de ambos conjuntos para adaptarlas a los requisitos del modelo de LeNet-5...\n",
      "\n",
      "Preprocesamiento de imágenes realizado correctamente.\n",
      "\n",
      "Muestra del procesamiento realizado sobre una imagen al azar en ambos conjuntos...\n",
      "\n",
      "Imagen aleatoria del conjunto de entrenamiento:\n"
     ]
    },
    {
     "data": {
      "image/png": "[encoded data removed]",
      "text/plain": [
       "<Figure size 432x288 with 1 Axes>"
      ]
     },
     "metadata": {
      "needs_background": "light"
     },
     "output_type": "display_data"
    },
    {
     "name": "stdout",
     "output_type": "stream",
     "text": [
      "Imagen aleatoria del conjunto de validación:\n"
     ]
    },
    {
     "data": {
      "image/png": "[encoded data removed]",
      "text/plain": [
       "<Figure size 432x288 with 1 Axes>"
      ]
     },
     "metadata": {
      "needs_background": "light"
     },
     "output_type": "display_data"
    },
    {
     "name": "stdout",
     "output_type": "stream",
     "text": [
      "Creación del modelo de LeNet-5...\n",
      "\n",
      "El modelo de LeNet-5 se ha creado correctamente.\n",
      "\n",
      "Estructura del modelo creado:\n",
      "_________________________________________________________________\n",
      "Layer (type)                 Output Shape              Param #   \n",
      "=================================================================\n",
      "conv2d_14 (Conv2D)           (None, 28, 28, 6)         156       \n",
      "_________________________________________________________________\n",
      "max_pooling2d_3 (MaxPooling2 (None, 14, 14, 6)         0         \n",
      "_________________________________________________________________\n",
      "conv2d_15 (Conv2D)           (None, 10, 10, 16)        2416      \n",
      "_________________________________________________________________\n",
      "max_pooling2d_4 (MaxPooling2 (None, 5, 5, 16)          0         \n",
      "_________________________________________________________________\n",
      "conv2d_16 (Conv2D)           (None, 1, 1, 120)         48120     \n",
      "_________________________________________________________________\n",
      "flatten_4 (Flatten)          (None, 120)               0         \n",
      "_________________________________________________________________\n",
      "dense_11 (Dense)             (None, 84)                10164     \n",
      "_________________________________________________________________\n",
      "dense_12 (Dense)             (None, 1)                 85        \n",
      "=================================================================\n",
      "Total params: 60,941\n",
      "Trainable params: 60,941\n",
      "Non-trainable params: 0\n",
      "_________________________________________________________________\n",
      "None\n",
      "\n",
      "Entrenamiento del modelo...\n",
      "\n",
      "Número de épocas elegidas: 40. Batch_size: 100\n",
      "\n",
      "Train on 1753 samples, validate on 439 samples\n",
      "Epoch 1/40\n",
      "1753/1753 [==============================] - 1s 340us/step - loss: 0.0435 - val_loss: 0.0392\n",
      "Epoch 2/40\n",
      "1753/1753 [==============================] - 0s 85us/step - loss: 0.0379 - val_loss: 0.0348\n",
      "Epoch 3/40\n",
      "1753/1753 [==============================] - 0s 84us/step - loss: 0.0285 - val_loss: 0.0265\n",
      "Epoch 4/40\n",
      "1753/1753 [==============================] - 0s 86us/step - loss: 0.0209 - val_loss: 0.0211\n",
      "Epoch 5/40\n",
      "1753/1753 [==============================] - 0s 90us/step - loss: 0.0175 - val_loss: 0.0204\n",
      "Epoch 6/40\n",
      "1753/1753 [==============================] - 0s 89us/step - loss: 0.0166 - val_loss: 0.0175\n",
      "Epoch 7/40\n",
      "1753/1753 [==============================] - 0s 87us/step - loss: 0.0157 - val_loss: 0.0171\n",
      "Epoch 8/40\n",
      "1753/1753 [==============================] - 0s 88us/step - loss: 0.0153 - val_loss: 0.0177\n",
      "Epoch 9/40\n",
      "1753/1753 [==============================] - 0s 86us/step - loss: 0.0144 - val_loss: 0.0161\n",
      "Epoch 10/40\n",
      "1753/1753 [==============================] - 0s 86us/step - loss: 0.0140 - val_loss: 0.0188\n",
      "Epoch 11/40\n",
      "1753/1753 [==============================] - 0s 86us/step - loss: 0.0139 - val_loss: 0.0168\n",
      "Epoch 12/40\n",
      "1753/1753 [==============================] - 0s 84us/step - loss: 0.0129 - val_loss: 0.0162\n",
      "Epoch 13/40\n",
      "1753/1753 [==============================] - 0s 82us/step - loss: 0.0123 - val_loss: 0.0169\n",
      "Epoch 14/40\n",
      "1753/1753 [==============================] - 0s 81us/step - loss: 0.0131 - val_loss: 0.0167\n",
      "Epoch 15/40\n",
      "1753/1753 [==============================] - 0s 82us/step - loss: 0.0122 - val_loss: 0.0169\n",
      "Epoch 16/40\n",
      "1753/1753 [==============================] - 0s 82us/step - loss: 0.0115 - val_loss: 0.0166\n",
      "Epoch 17/40\n",
      "1753/1753 [==============================] - 0s 82us/step - loss: 0.0110 - val_loss: 0.0173\n",
      "Epoch 18/40\n",
      "1753/1753 [==============================] - 0s 83us/step - loss: 0.0107 - val_loss: 0.0167\n",
      "Epoch 19/40\n",
      "1753/1753 [==============================] - 0s 80us/step - loss: 0.0102 - val_loss: 0.0173\n",
      "Epoch 20/40\n",
      "1753/1753 [==============================] - 0s 82us/step - loss: 0.0100 - val_loss: 0.0167\n",
      "Epoch 21/40\n",
      "1753/1753 [==============================] - 0s 82us/step - loss: 0.0099 - val_loss: 0.0165\n",
      "Epoch 22/40\n",
      "1753/1753 [==============================] - 0s 80us/step - loss: 0.0092 - val_loss: 0.0185\n",
      "Epoch 23/40\n",
      "1753/1753 [==============================] - 0s 82us/step - loss: 0.0090 - val_loss: 0.0172\n",
      "Epoch 24/40\n",
      "1753/1753 [==============================] - 0s 81us/step - loss: 0.0080 - val_loss: 0.0174\n",
      "Epoch 25/40\n",
      "1753/1753 [==============================] - 0s 81us/step - loss: 0.0079 - val_loss: 0.0183\n",
      "Epoch 26/40\n",
      "1753/1753 [==============================] - 0s 82us/step - loss: 0.0072 - val_loss: 0.0178\n",
      "Epoch 27/40\n",
      "1753/1753 [==============================] - 0s 81us/step - loss: 0.0068 - val_loss: 0.0182\n",
      "Epoch 28/40\n",
      "1753/1753 [==============================] - 0s 83us/step - loss: 0.0066 - val_loss: 0.0182\n",
      "Epoch 29/40\n",
      "1753/1753 [==============================] - 0s 81us/step - loss: 0.0061 - val_loss: 0.0183\n",
      "Epoch 30/40\n",
      "1753/1753 [==============================] - 0s 82us/step - loss: 0.0055 - val_loss: 0.0194\n",
      "Epoch 31/40\n",
      "1753/1753 [==============================] - 0s 82us/step - loss: 0.0052 - val_loss: 0.0186\n",
      "Epoch 32/40\n",
      "1753/1753 [==============================] - 0s 82us/step - loss: 0.0045 - val_loss: 0.0199\n",
      "Epoch 33/40\n",
      "1753/1753 [==============================] - 0s 81us/step - loss: 0.0045 - val_loss: 0.0201\n",
      "Epoch 34/40\n",
      "1753/1753 [==============================] - 0s 80us/step - loss: 0.0042 - val_loss: 0.0210\n",
      "Epoch 35/40\n",
      "1753/1753 [==============================] - 0s 83us/step - loss: 0.0037 - val_loss: 0.0201\n",
      "Epoch 36/40\n",
      "1753/1753 [==============================] - 0s 82us/step - loss: 0.0034 - val_loss: 0.0213\n",
      "Epoch 37/40\n",
      "1753/1753 [==============================] - 0s 82us/step - loss: 0.0038 - val_loss: 0.0203\n",
      "Epoch 38/40\n",
      "1753/1753 [==============================] - 0s 84us/step - loss: 0.0030 - val_loss: 0.0206\n",
      "Epoch 39/40\n",
      "1753/1753 [==============================] - 0s 82us/step - loss: 0.0028 - val_loss: 0.0202\n",
      "Epoch 40/40\n",
      "1753/1753 [==============================] - 0s 82us/step - loss: 0.0031 - val_loss: 0.0209\n",
      "\n",
      "El modelo de LeNet-5 se ha entrenado correctamente.\n",
      "\n",
      "Valores de loss del modelo...\n",
      "\n"
     ]
    },
    {
     "data": {
      "image/png": "[encoded data removed]",
      "text/plain": [
       "<Figure size 432x288 with 1 Axes>"
      ]
     },
     "metadata": {
      "needs_background": "light"
     },
     "output_type": "display_data"
    }
   ],
   "source": [
    "prueba7(dataset_preprocesado, 40, 100)"
   ]
  }
 ],
 "metadata": {
  "kernelspec": {
   "display_name": "Python 3",
   "language": "python",
   "name": "python3"
  },
  "language_info": {
   "codemirror_mode": {
    "name": "ipython",
    "version": 3
   },
   "file_extension": ".py",
   "mimetype": "text/x-python",
   "name": "python",
   "nbconvert_exporter": "python",
   "pygments_lexer": "ipython3",
   "version": "3.6.9"
  }
 },
 "nbformat": 4,
 "nbformat_minor": 2
}
